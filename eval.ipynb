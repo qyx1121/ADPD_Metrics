{
 "cells": [
  {
   "cell_type": "code",
   "execution_count": 2,
   "metadata": {},
   "outputs": [],
   "source": [
    "import os\n",
    "import os.path as osp\n",
    "import json\n",
    "import numpy as np\n",
    "import matplotlib.pyplot as plt\n",
    "\n",
    "bvr_gt = json.load(open(\"/Users/qinyixin/Desktop/huaxi_proj/test_data/annotate/bvr_gt.json\")) \n",
    "ca_gt = json.load(open(\"/Users/qinyixin/Desktop/huaxi_proj/test_data/annotate/ca_gt.json\"))\n",
    "evans_gt = json.load(open(\"/Users/qinyixin/Desktop/huaxi_proj/test_data/annotate/zevans_gt.json\"))"
   ]
  },
  {
   "cell_type": "code",
   "execution_count": 3,
   "metadata": {},
   "outputs": [],
   "source": [
    "model_name = \"vmf\""
   ]
  },
  {
   "cell_type": "code",
   "execution_count": 36,
   "metadata": {},
   "outputs": [
    {
     "name": "stdout",
     "output_type": "stream",
     "text": [
      "Avg. BVR error:  0.38910484702744697\n",
      "Avg. zEvans error:  0.04108867920301663\n",
      "Avg. skull above head error:  0.6572000000000001\n",
      "Avg. skull height error:  0.8679999999999997\n",
      "Avg. head height error:  0.24919999999999998\n"
     ]
    }
   ],
   "source": [
    "bvr_error, zei_error = [], []\n",
    "skull_height_erorr, head_height_error, skull_above_head_error = [], [], []\n",
    "\n",
    "skull_heights = []\n",
    "head_heights = []\n",
    "skull_above_head_heights = []\n",
    "bvrs = []\n",
    "zeis = []\n",
    "ids = []\n",
    "\n",
    "for k, v in bvr_gt.items():\n",
    "    ids.append(k)\n",
    "    res_path = f\"results/{k}/{model_name}/results.json\"\n",
    "    res = json.load(open(res_path))\n",
    "    skull_above_head_gt, head_height_gt, skull_height_gt = list(map(float, v))\n",
    "    skull_height_pred = res['zEI']['line_2'][0][1] - res['zEI']['line_2'][1][1]\n",
    "    head_height_pred = res['BVR']['line_1'][1][1] - res['BVR']['line_1'][0][1]\n",
    "    skull_above_head_pred = res['BVR']['line_2'][0][1] - res['BVR']['line_2'][1][1]\n",
    "\n",
    "    skull_heights.append([skull_height_pred, skull_height_gt])\n",
    "    head_heights.append([head_height_pred, head_height_gt])\n",
    "    skull_above_head_heights.append([skull_above_head_pred, skull_above_head_gt])\n",
    "\n",
    "    pred_bvr = skull_above_head_pred / head_height_pred\n",
    "    gt_bvr = skull_above_head_gt / head_height_gt\n",
    "\n",
    "    pred_zei = head_height_pred / skull_height_pred\n",
    "    gt_zei = head_height_gt / skull_height_gt\n",
    "    \n",
    "    bvrs.append([pred_bvr, gt_bvr])\n",
    "    zeis.append([pred_zei, gt_zei])\n",
    "\n",
    "    bvr_error.append(abs(pred_bvr - gt_bvr))\n",
    "    zei_error.append(abs(pred_zei - gt_zei))\n",
    "    skull_above_head_error.append(abs(skull_above_head_pred / 10 - skull_above_head_gt))\n",
    "    skull_height_erorr.append(abs(skull_height_pred / 10 - skull_height_gt))\n",
    "    head_height_error.append(abs(head_height_pred / 10 - head_height_gt))\n",
    "\n",
    "print(\"Avg. BVR error: \", np.mean(bvr_error))\n",
    "print(\"Avg. zEvans error: \", np.mean(zei_error))\n",
    "print(\"Avg. skull above head error: \", np.mean(skull_above_head_error))\n",
    "print(\"Avg. skull height error: \", np.mean(skull_height_erorr))\n",
    "print(\"Avg. head height error: \", np.mean(head_height_error))"
   ]
  },
  {
   "cell_type": "code",
   "execution_count": 4,
   "metadata": {},
   "outputs": [
    {
     "name": "stdout",
     "output_type": "stream",
     "text": [
      "Avg. CA error:  7.633963736173752\n"
     ]
    }
   ],
   "source": [
    "ca_error_record = []\n",
    "ca_error = 0\n",
    "for k, v in ca_gt.items():\n",
    "    res_path = f\"results/{k}/{model_name}/results.json\"\n",
    "    res = json.load(open(res_path))\n",
    "    pred_ca = res['CA']['data']\n",
    "    points = res['CA']['points']\n",
    "    plt.imshow(plt.imread(f\"results/{k}/{model_name}/ca_image.png\"))\n",
    "    plt.plot([points[i][0] for i in range(3)], [points[i][1] for i in range(3)])\n",
    "    plt.savefig(f\"results/{k}/{model_name}/ca_image_visualize.png\")\n",
    "    plt.close()\n",
    "    ca_error_record.append({k: [pred_ca, v, abs(pred_ca - float(v))]})\n",
    "    ca_error += abs(pred_ca - float(v))\n",
    "print(\"Avg. CA error: \", ca_error/len(ca_gt))"
   ]
  },
  {
   "cell_type": "code",
   "execution_count": 5,
   "metadata": {},
   "outputs": [
    {
     "data": {
      "text/plain": [
       "[{'ST000014': [97.51842687944219, '97.1', 0.4184268794421939]},\n",
       " {'ST000013': [103.8220546357317, '118.1', 14.277945364268291]},\n",
       " {'ST000040': [125.36246188706905, '116.2', 9.162461887069043]},\n",
       " {'ST000012': [98.13010235415598, '119.0', 20.86989764584402]},\n",
       " {'ST000015': [112.16634582208245, '110.2', 1.9663458220824452]},\n",
       " {'ST000041': [134.76027010391917, '131.5', 3.2602701039191686]},\n",
       " {'ST000037': [110.2825590889166, '111.9', 1.6174409110834063]},\n",
       " {'ST000030': [135.0, '123.5', 11.5]},\n",
       " {'ST000039': [107.13299615034313, '109.6', 2.4670038496568623]},\n",
       " {'ST000038': [119.74488129694222, '110.7', 9.044881296942222]},\n",
       " {'ST000031': [98.9726266148964, '99.5', 0.5273733851036013]},\n",
       " {'ST000036': [127.4270513594566, '128.5', 1.0729486405434017]},\n",
       " {'ST000043': [82.51004731536756, '91.6', 9.089952684632436]},\n",
       " {'ST000044': [107.43938777261384, '121.8', 14.360612227386156]},\n",
       " {'ST000028': [126.02737338510362, '130.6', 4.572626614896379]},\n",
       " {'ST000026': [104.03624346792648, '103.2', 0.8362434679264794]},\n",
       " {'ST000045': [135.57872556560778, '116.3', 19.278725565607786]},\n",
       " {'ST000042': [103.84069549165562, '107.2', 3.3593045083443798]},\n",
       " {'ST000027': [111.16125981682826, '127.7', 16.53874018317174]},\n",
       " {'ST000029': [105.12400730831057, '105.8', 0.6759926916894301]},\n",
       " {'ST000011': [104.65675111576043, '108.4', 3.743248884239577]},\n",
       " {'ST000033': [117.23235953291308, '133.6', 16.367640467086915]},\n",
       " {'ST000034': [112.61986494804043, '97.6', 15.019864948040436]},\n",
       " {'ST000035': [105.3128183608063, '108.5', 3.187181639193696]}]"
      ]
     },
     "execution_count": 5,
     "metadata": {},
     "output_type": "execute_result"
    }
   ],
   "source": [
    "ca_error_record"
   ]
  },
  {
   "cell_type": "code",
   "execution_count": 33,
   "metadata": {},
   "outputs": [
    {
     "data": {
      "text/plain": [
       "[{'ST000014': [97.51842687944219, '97.1', 0.4184268794421939]},\n",
       " {'ST000013': [103.8220546357317, '118.1', 14.277945364268291]},\n",
       " {'ST000040': [125.36246188706905, '116.2', 9.162461887069043]},\n",
       " {'ST000012': [98.13010235415598, '119.0', 20.86989764584402]},\n",
       " {'ST000015': [112.16634582208245, '110.2', 1.9663458220824452]},\n",
       " {'ST000041': [134.76027010391917, '131.5', 3.2602701039191686]},\n",
       " {'ST000037': [110.2825590889166, '111.9', 1.6174409110834063]},\n",
       " {'ST000030': [135.0, '123.5', 11.5]},\n",
       " {'ST000039': [107.13299615034313, '109.6', 2.4670038496568623]},\n",
       " {'ST000038': [119.74488129694222, '110.7', 9.044881296942222]},\n",
       " {'ST000031': [98.9726266148964, '99.5', 0.5273733851036013]},\n",
       " {'ST000036': [127.4270513594566, '128.5', 1.0729486405434017]},\n",
       " {'ST000043': [82.51004731536756, '91.6', 9.089952684632436]},\n",
       " {'ST000044': [107.43938777261384, '121.8', 14.360612227386156]},\n",
       " {'ST000028': [126.02737338510362, '130.6', 4.572626614896379]},\n",
       " {'ST000026': [104.03624346792648, '103.2', 0.8362434679264794]},\n",
       " {'ST000045': [135.57872556560778, '116.3', 19.278725565607786]},\n",
       " {'ST000042': [103.84069549165562, '107.2', 3.3593045083443798]},\n",
       " {'ST000027': [111.16125981682826, '127.7', 16.53874018317174]},\n",
       " {'ST000029': [105.12400730831057, '105.8', 0.6759926916894301]},\n",
       " {'ST000011': [104.65675111576043, '108.4', 3.743248884239577]},\n",
       " {'ST000033': [117.23235953291308, '133.6', 16.367640467086915]},\n",
       " {'ST000034': [112.61986494804043, '97.6', 15.019864948040436]},\n",
       " {'ST000035': [105.3128183608063, '108.5', 3.187181639193696]}]"
      ]
     },
     "execution_count": 33,
     "metadata": {},
     "output_type": "execute_result"
    }
   ],
   "source": [
    "ca_error_record"
   ]
  },
  {
   "cell_type": "code",
   "execution_count": 16,
   "metadata": {},
   "outputs": [
    {
     "data": {
      "text/plain": [
       "[{'ST000014': [104.74356283647074, '97.1', 7.64356283647075]},\n",
       " {'ST000013': [108.86899945506141, '118.1', 9.231000544938581]},\n",
       " {'ST000040': [77.47119229084849, '116.2', 38.72880770915151]},\n",
       " {'ST000012': [106.38954033403478, '119.0', 12.610459665965223]},\n",
       " {'ST000015': [118.00917670801383, '110.2', 7.809176708013823]},\n",
       " {'ST000041': [138.21548399174821, '131.5', 6.715483991748215]},\n",
       " {'ST000037': [108.23940084665115, '111.9', 3.660599153348855]},\n",
       " {'ST000030': [130.60129464500446, '123.5', 7.101294645004458]},\n",
       " {'ST000039': [104.32271997820355, '109.6', 5.277280021796443]},\n",
       " {'ST000038': [124.79602627826831, '110.7', 14.096026278268312]},\n",
       " {'ST000031': [97.4314079711725, '99.5', 2.0685920288274957]},\n",
       " {'ST000036': [132.93618027154304, '128.5', 4.436180271543037]},\n",
       " {'ST000043': [83.11174172300531, '91.6', 8.488258276994685]},\n",
       " {'ST000044': [105.3128183608063, '121.8', 16.487181639193693]},\n",
       " {'ST000028': [131.63353933657018, '130.6', 1.0335393365701862]},\n",
       " {'ST000026': [108.43494882292201, '103.2', 5.234948822922007]},\n",
       " {'ST000045': [128.99099404250546, '116.3', 12.690994042505466]},\n",
       " {'ST000042': [97.1250163489018, '107.2', 10.074983651098208]},\n",
       " {'ST000027': [113.71618945136713, '127.7', 13.983810548632874]},\n",
       " {'ST000029': [111.50143432404789, '105.8', 5.701434324047895]},\n",
       " {'ST000011': [121.8907918018457, '108.4', 13.490791801845688]},\n",
       " {'ST000033': [121.82744657667313, '133.6', 11.772553423326869]},\n",
       " {'ST000034': [106.89373017919812, '97.6', 9.293730179198121]},\n",
       " {'ST000035': [105.56151032532848, '108.5', 2.9384896746715157]}]"
      ]
     },
     "execution_count": 16,
     "metadata": {},
     "output_type": "execute_result"
    }
   ],
   "source": [
    "ca_error_record"
   ]
  },
  {
   "cell_type": "code",
   "execution_count": 88,
   "metadata": {},
   "outputs": [
    {
     "name": "stdout",
     "output_type": "stream",
     "text": [
      "Avg. Evans error:  0.03537603089952215\n",
      "Avg. EI short error:  0.5528\n",
      "Avg. EI long error:  0.38959999999999995\n"
     ]
    }
   ],
   "source": [
    "ei_error = []\n",
    "ei_short_error = []\n",
    "ei_long_error = []\n",
    "for k, v in evans_gt.items():\n",
    "    res_path = f\"results/{k}/{model_name}/results.json\"\n",
    "    res = json.load(open(res_path))\n",
    "    pred_ei = res['EI']['data']\n",
    "    gt_ei = float(v[0]) / float(v[1])\n",
    "\n",
    "    pred_short = res['EI']['line_2'][0][0] - res['EI']['line_2'][1][0]\n",
    "    pred_long = res['EI']['line_1'][0][0] - res['EI']['line_1'][1][0]\n",
    "    \n",
    "    ei_error.append(abs(pred_ei - gt_ei))\n",
    "    ei_short_error.append(abs(float(v[0]) - pred_short / 10))\n",
    "    ei_long_error.append(abs(float(v[1]) - pred_long / 10))\n",
    "\n",
    "print(\"Avg. Evans error: \", np.mean(ei_error))\n",
    "print(\"Avg. EI short error: \", np.mean(ei_short_error))\n",
    "print(\"Avg. EI long error: \", np.mean(ei_long_error))"
   ]
  },
  {
   "cell_type": "code",
   "execution_count": null,
   "metadata": {},
   "outputs": [],
   "source": []
  }
 ],
 "metadata": {
  "kernelspec": {
   "display_name": "Python 3",
   "language": "python",
   "name": "python3"
  },
  "language_info": {
   "codemirror_mode": {
    "name": "ipython",
    "version": 3
   },
   "file_extension": ".py",
   "mimetype": "text/x-python",
   "name": "python",
   "nbconvert_exporter": "python",
   "pygments_lexer": "ipython3",
   "version": "3.10.6"
  }
 },
 "nbformat": 4,
 "nbformat_minor": 2
}
